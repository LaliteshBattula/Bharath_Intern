{
  "nbformat": 4,
  "nbformat_minor": 0,
  "metadata": {
    "colab": {
      "provenance": []
    },
    "kernelspec": {
      "name": "python3",
      "display_name": "Python 3"
    },
    "language_info": {
      "name": "python"
    }
  },
  "cells": [
    {
      "cell_type": "code",
      "source": [
        "pip install googletrans==4.0.0-rc1  # installing googletrans library which provides an interface to the Google Translate API"
      ],
      "metadata": {
        "colab": {
          "base_uri": "https://localhost:8080/"
        },
        "id": "VQwNeMDfYn6e",
        "outputId": "18c79eb1-a47f-4d03-ca99-fa20b57a98a1"
      },
      "execution_count": 5,
      "outputs": [
        {
          "output_type": "stream",
          "name": "stdout",
          "text": [
            "Collecting googletrans==4.0.0-rc1\n",
            "  Downloading googletrans-4.0.0rc1.tar.gz (20 kB)\n",
            "  Preparing metadata (setup.py) ... \u001b[?25l\u001b[?25hdone\n",
            "Collecting httpx==0.13.3 (from googletrans==4.0.0-rc1)\n",
            "  Downloading httpx-0.13.3-py3-none-any.whl (55 kB)\n",
            "\u001b[2K     \u001b[90m━━━━━━━━━━━━━━━━━━━━━━━━━━━━━━━━━━━━━━━━\u001b[0m \u001b[32m55.1/55.1 kB\u001b[0m \u001b[31m6.3 MB/s\u001b[0m eta \u001b[36m0:00:00\u001b[0m\n",
            "\u001b[?25hRequirement already satisfied: certifi in /usr/local/lib/python3.10/dist-packages (from httpx==0.13.3->googletrans==4.0.0-rc1) (2023.5.7)\n",
            "Collecting hstspreload (from httpx==0.13.3->googletrans==4.0.0-rc1)\n",
            "  Downloading hstspreload-2023.1.1-py3-none-any.whl (1.5 MB)\n",
            "\u001b[2K     \u001b[90m━━━━━━━━━━━━━━━━━━━━━━━━━━━━━━━━━━━━━━━━\u001b[0m \u001b[32m1.5/1.5 MB\u001b[0m \u001b[31m47.4 MB/s\u001b[0m eta \u001b[36m0:00:00\u001b[0m\n",
            "\u001b[?25hRequirement already satisfied: sniffio in /usr/local/lib/python3.10/dist-packages (from httpx==0.13.3->googletrans==4.0.0-rc1) (1.3.0)\n",
            "Collecting chardet==3.* (from httpx==0.13.3->googletrans==4.0.0-rc1)\n",
            "  Downloading chardet-3.0.4-py2.py3-none-any.whl (133 kB)\n",
            "\u001b[2K     \u001b[90m━━━━━━━━━━━━━━━━━━━━━━━━━━━━━━━━━━━━━━\u001b[0m \u001b[32m133.4/133.4 kB\u001b[0m \u001b[31m14.7 MB/s\u001b[0m eta \u001b[36m0:00:00\u001b[0m\n",
            "\u001b[?25hCollecting idna==2.* (from httpx==0.13.3->googletrans==4.0.0-rc1)\n",
            "  Downloading idna-2.10-py2.py3-none-any.whl (58 kB)\n",
            "\u001b[2K     \u001b[90m━━━━━━━━━━━━━━━━━━━━━━━━━━━━━━━━━━━━━━━━\u001b[0m \u001b[32m58.8/58.8 kB\u001b[0m \u001b[31m6.8 MB/s\u001b[0m eta \u001b[36m0:00:00\u001b[0m\n",
            "\u001b[?25hCollecting rfc3986<2,>=1.3 (from httpx==0.13.3->googletrans==4.0.0-rc1)\n",
            "  Downloading rfc3986-1.5.0-py2.py3-none-any.whl (31 kB)\n",
            "Collecting httpcore==0.9.* (from httpx==0.13.3->googletrans==4.0.0-rc1)\n",
            "  Downloading httpcore-0.9.1-py3-none-any.whl (42 kB)\n",
            "\u001b[2K     \u001b[90m━━━━━━━━━━━━━━━━━━━━━━━━━━━━━━━━━━━━━━━━\u001b[0m \u001b[32m42.6/42.6 kB\u001b[0m \u001b[31m4.9 MB/s\u001b[0m eta \u001b[36m0:00:00\u001b[0m\n",
            "\u001b[?25hCollecting h11<0.10,>=0.8 (from httpcore==0.9.*->httpx==0.13.3->googletrans==4.0.0-rc1)\n",
            "  Downloading h11-0.9.0-py2.py3-none-any.whl (53 kB)\n",
            "\u001b[2K     \u001b[90m━━━━━━━━━━━━━━━━━━━━━━━━━━━━━━━━━━━━━━━━\u001b[0m \u001b[32m53.6/53.6 kB\u001b[0m \u001b[31m6.6 MB/s\u001b[0m eta \u001b[36m0:00:00\u001b[0m\n",
            "\u001b[?25hCollecting h2==3.* (from httpcore==0.9.*->httpx==0.13.3->googletrans==4.0.0-rc1)\n",
            "  Downloading h2-3.2.0-py2.py3-none-any.whl (65 kB)\n",
            "\u001b[2K     \u001b[90m━━━━━━━━━━━━━━━━━━━━━━━━━━━━━━━━━━━━━━━━\u001b[0m \u001b[32m65.0/65.0 kB\u001b[0m \u001b[31m6.8 MB/s\u001b[0m eta \u001b[36m0:00:00\u001b[0m\n",
            "\u001b[?25hCollecting hyperframe<6,>=5.2.0 (from h2==3.*->httpcore==0.9.*->httpx==0.13.3->googletrans==4.0.0-rc1)\n",
            "  Downloading hyperframe-5.2.0-py2.py3-none-any.whl (12 kB)\n",
            "Collecting hpack<4,>=3.0 (from h2==3.*->httpcore==0.9.*->httpx==0.13.3->googletrans==4.0.0-rc1)\n",
            "  Downloading hpack-3.0.0-py2.py3-none-any.whl (38 kB)\n",
            "Building wheels for collected packages: googletrans\n",
            "  Building wheel for googletrans (setup.py) ... \u001b[?25l\u001b[?25hdone\n",
            "  Created wheel for googletrans: filename=googletrans-4.0.0rc1-py3-none-any.whl size=17397 sha256=642f9f756c35bf70652ab7ecf8f431e3a68502489adf60f3bc6e5e4f4a9a9d72\n",
            "  Stored in directory: /root/.cache/pip/wheels/c0/59/9f/7372f0cf70160fe61b528532e1a7c8498c4becd6bcffb022de\n",
            "Successfully built googletrans\n",
            "Installing collected packages: rfc3986, hyperframe, hpack, h11, chardet, idna, hstspreload, h2, httpcore, httpx, googletrans\n",
            "  Attempting uninstall: chardet\n",
            "    Found existing installation: chardet 4.0.0\n",
            "    Uninstalling chardet-4.0.0:\n",
            "      Successfully uninstalled chardet-4.0.0\n",
            "  Attempting uninstall: idna\n",
            "    Found existing installation: idna 3.4\n",
            "    Uninstalling idna-3.4:\n",
            "      Successfully uninstalled idna-3.4\n",
            "Successfully installed chardet-3.0.4 googletrans-4.0.0rc1 h11-0.9.0 h2-3.2.0 hpack-3.0.0 hstspreload-2023.1.1 httpcore-0.9.1 httpx-0.13.3 hyperframe-5.2.0 idna-2.10 rfc3986-1.5.0\n"
          ]
        }
      ]
    },
    {
      "cell_type": "code",
      "source": [
        "from googletrans import Translator"
      ],
      "metadata": {
        "id": "0lpU-WTlYy6-"
      },
      "execution_count": 6,
      "outputs": []
    },
    {
      "cell_type": "code",
      "source": [
        "# languages to be present in the tool\n",
        "LANGUAGES = {\n",
        "    'English': 'en',\n",
        "    'Spanish': 'es',\n",
        "    'French': 'fr',\n",
        "    'German': 'de',\n",
        "    'Italian': 'it',\n",
        "    'Japanese': 'ja',\n",
        "    'Korean': 'ko',\n",
        "    'Portuguese': 'pt',\n",
        "    'Russian': 'ru',\n",
        "    'Hindi': 'hi'\n",
        "}"
      ],
      "metadata": {
        "id": "r0ZQC28BY86Q"
      },
      "execution_count": 7,
      "outputs": []
    },
    {
      "cell_type": "code",
      "source": [
        "# function for translating from one language to another language\n",
        "def translate_text(text, source_language, target_language):\n",
        "    translator = Translator()\n",
        "    translated = translator.translate(text, src=source_language, dest=target_language)\n",
        "    return translated.text"
      ],
      "metadata": {
        "id": "iERXKG-jZLI5"
      },
      "execution_count": 8,
      "outputs": []
    },
    {
      "cell_type": "code",
      "source": [
        "# displaying available languages in console to know what languages are present\n",
        "print(\"Languages available are:\")\n",
        "for language in LANGUAGES.keys():\n",
        "    print(language)"
      ],
      "metadata": {
        "colab": {
          "base_uri": "https://localhost:8080/"
        },
        "id": "IUHsXTX2Zl0N",
        "outputId": "3164865a-7634-4dbf-e59b-8bfe1835332d"
      },
      "execution_count": 9,
      "outputs": [
        {
          "output_type": "stream",
          "name": "stdout",
          "text": [
            "Languages available are:\n",
            "English\n",
            "Spanish\n",
            "French\n",
            "German\n",
            "Italian\n",
            "Japanese\n",
            "Korean\n",
            "Portuguese\n",
            "Russian\n",
            "Hindi\n"
          ]
        }
      ]
    },
    {
      "cell_type": "code",
      "source": [
        "# taking input from the user\n",
        "source_language = input(\"Enter the source language: \")\n",
        "input_text = input(\"Enter the text to translate: \")\n",
        "target_language = input(\"Enter the target language: \")"
      ],
      "metadata": {
        "colab": {
          "base_uri": "https://localhost:8080/"
        },
        "id": "H4cnUsDRZ1qv",
        "outputId": "862387e4-efaf-4e4e-e254-2d65dbe0cc5a"
      },
      "execution_count": 10,
      "outputs": [
        {
          "name": "stdout",
          "output_type": "stream",
          "text": [
            "Enter the source language: English\n",
            "Enter the text to translate: I love you\n",
            "Enter the target language: French\n"
          ]
        }
      ]
    },
    {
      "cell_type": "code",
      "source": [
        "source_language_code = LANGUAGES.get(source_language.title())\n",
        "target_language_code = LANGUAGES.get(target_language.title())\n",
        "\n",
        "if source_language_code and target_language_code:\n",
        "    translated_text = translate_text(input_text, source_language_code, target_language_code)\n",
        "    print(\"Translation of your text is, \"+translated_text)\n",
        "else:\n",
        "    print(\"Invalid source or target language, please check from available languages\")"
      ],
      "metadata": {
        "colab": {
          "base_uri": "https://localhost:8080/"
        },
        "id": "VkUKIYLRaPk7",
        "outputId": "fd5513cc-3f70-4739-d578-49d8a8a86fe0"
      },
      "execution_count": 11,
      "outputs": [
        {
          "output_type": "stream",
          "name": "stdout",
          "text": [
            "Translation of your text is, Je t'aime\n"
          ]
        }
      ]
    },
    {
      "cell_type": "code",
      "source": [
        "# combining all together\n",
        "\n",
        "from googletrans import Translator\n",
        "LANGUAGES = {\n",
        "    'English': 'en',\n",
        "    'Spanish': 'es',\n",
        "    'French': 'fr',\n",
        "    'German': 'de',\n",
        "    'Italian': 'it',\n",
        "    'Japanese': 'ja',\n",
        "    'Korean': 'ko',\n",
        "    'Portuguese': 'pt',\n",
        "    'Russian': 'ru',\n",
        "    'Hindi': 'hi'\n",
        "}\n",
        "\n",
        "def translate_text(text, source_language, target_language):\n",
        "    translator = Translator()\n",
        "    translated = translator.translate(text, src=source_language, dest=target_language)\n",
        "    return translated.text\n",
        "\n",
        "\n",
        "print(\"Languages available are:\")\n",
        "for language in LANGUAGES.keys():\n",
        "    print(language)\n",
        "\n",
        "\n",
        "source_language = input(\"Enter the source language: \")\n",
        "input_text = input(\"Enter the text to translate: \")\n",
        "target_language = input(\"Enter the target language: \")\n",
        "\n",
        "source_language_code = LANGUAGES.get(source_language.title())\n",
        "target_language_code = LANGUAGES.get(target_language.title())\n",
        "\n",
        "if source_language_code and target_language_code:\n",
        "    translated_text = translate_text(input_text, source_language_code, target_language_code)\n",
        "    print(\"Translation of your text is, \"+translated_text)\n",
        "else:\n",
        "    print(\"Invalid source or target language, please check from available languages\")"
      ],
      "metadata": {
        "colab": {
          "base_uri": "https://localhost:8080/"
        },
        "id": "pWyl4xuobQTT",
        "outputId": "5e07d972-565c-499e-a27e-c12863e04bc6"
      },
      "execution_count": 13,
      "outputs": [
        {
          "output_type": "stream",
          "name": "stdout",
          "text": [
            "Languages available are:\n",
            "English\n",
            "Spanish\n",
            "French\n",
            "German\n",
            "Italian\n",
            "Japanese\n",
            "Korean\n",
            "Portuguese\n",
            "Russian\n",
            "Hindi\n",
            "Enter the source language: Spanish\n",
            "Enter the text to translate: Hola, coma estas\n",
            "Enter the target language: English\n",
            "Translation of your text is, Hello, how are you\n"
          ]
        }
      ]
    }
  ]
}