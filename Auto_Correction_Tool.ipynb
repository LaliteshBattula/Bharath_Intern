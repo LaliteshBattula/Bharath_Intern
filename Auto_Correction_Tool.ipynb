{
  "nbformat": 4,
  "nbformat_minor": 0,
  "metadata": {
    "colab": {
      "provenance": []
    },
    "kernelspec": {
      "name": "python3",
      "display_name": "Python 3"
    },
    "language_info": {
      "name": "python"
    }
  },
  "cells": [
    {
      "cell_type": "code",
      "execution_count": 1,
      "metadata": {
        "colab": {
          "base_uri": "https://localhost:8080/"
        },
        "id": "eeXo6Yanqb1f",
        "outputId": "483d9bca-d34f-4a47-a7b5-ca8a5043596f"
      },
      "outputs": [
        {
          "output_type": "stream",
          "name": "stdout",
          "text": [
            "Collecting pyspellchecker\n",
            "  Downloading pyspellchecker-0.7.2-py3-none-any.whl (3.4 MB)\n",
            "\u001b[?25l     \u001b[90m━━━━━━━━━━━━━━━━━━━━━━━━━━━━━━━━━━━━━━━━\u001b[0m \u001b[32m0.0/3.4 MB\u001b[0m \u001b[31m?\u001b[0m eta \u001b[36m-:--:--\u001b[0m\r\u001b[2K     \u001b[91m━━\u001b[0m\u001b[91m╸\u001b[0m\u001b[90m━━━━━━━━━━━━━━━━━━━━━━━━━━━━━━━━━━━━━\u001b[0m \u001b[32m0.2/3.4 MB\u001b[0m \u001b[31m7.1 MB/s\u001b[0m eta \u001b[36m0:00:01\u001b[0m\r\u001b[2K     \u001b[91m━━━━━━━━━━━━━━━━━━\u001b[0m\u001b[90m╺\u001b[0m\u001b[90m━━━━━━━━━━━━━━━━━━━━━\u001b[0m \u001b[32m1.6/3.4 MB\u001b[0m \u001b[31m22.7 MB/s\u001b[0m eta \u001b[36m0:00:01\u001b[0m\r\u001b[2K     \u001b[91m━━━━━━━━━━━━━━━━━━━━━━━━━━━━━━━━━━━━━━━\u001b[0m\u001b[91m╸\u001b[0m \u001b[32m3.4/3.4 MB\u001b[0m \u001b[31m40.7 MB/s\u001b[0m eta \u001b[36m0:00:01\u001b[0m\r\u001b[2K     \u001b[90m━━━━━━━━━━━━━━━━━━━━━━━━━━━━━━━━━━━━━━━━\u001b[0m \u001b[32m3.4/3.4 MB\u001b[0m \u001b[31m30.7 MB/s\u001b[0m eta \u001b[36m0:00:00\u001b[0m\n",
            "\u001b[?25hInstalling collected packages: pyspellchecker\n",
            "Successfully installed pyspellchecker-0.7.2\n"
          ]
        }
      ],
      "source": [
        "pip install pyspellchecker  # importing spell checker library"
      ]
    },
    {
      "cell_type": "code",
      "source": [
        "from spellchecker import SpellChecker\n",
        "spell = SpellChecker()"
      ],
      "metadata": {
        "id": "ri99nvgqq2tW"
      },
      "execution_count": 2,
      "outputs": []
    },
    {
      "cell_type": "code",
      "source": [
        "# taking input from the user\n",
        "word = input(\"Enter the word to correct: \")"
      ],
      "metadata": {
        "colab": {
          "base_uri": "https://localhost:8080/"
        },
        "id": "e9SLYVp6rAiI",
        "outputId": "b52f06db-9343-4fcf-e378-d6eff481bec3"
      },
      "execution_count": 3,
      "outputs": [
        {
          "name": "stdout",
          "output_type": "stream",
          "text": [
            "Enter the word to correct: moniy\n"
          ]
        }
      ]
    },
    {
      "cell_type": "code",
      "source": [
        "if word in spell:\n",
        "  print(\"'{}' is correct word\".format(word))\n",
        "else:\n",
        "  corrected_word=spell.correction(word)   # correcting the word with spell.correction() funtion\n",
        "  print(\"'{}' is the correct or nearest word you need\".format(corrected_word))"
      ],
      "metadata": {
        "colab": {
          "base_uri": "https://localhost:8080/"
        },
        "id": "mvNvJ9J1rPWI",
        "outputId": "29a86a66-2c8f-4eea-84ae-1b8bad8ca7c1"
      },
      "execution_count": 4,
      "outputs": [
        {
          "output_type": "stream",
          "name": "stdout",
          "text": [
            "'money' is the correct or nearest word you need\n"
          ]
        }
      ]
    },
    {
      "cell_type": "code",
      "source": [
        "# combining all together\n",
        "from spellchecker import SpellChecker\n",
        "spell = SpellChecker()\n",
        "\n",
        "word = input(\"Enter the word to correct: \")\n",
        "\n",
        "if word in spell:\n",
        "  print(\"'{}' is correct word\".format(word))\n",
        "else:\n",
        "  corrected_word=spell.correction(word)\n",
        "  print(\"'{}' is the correct or nearest word you need\".format(corrected_word))"
      ],
      "metadata": {
        "colab": {
          "base_uri": "https://localhost:8080/"
        },
        "id": "6s6mIpzqr9Pe",
        "outputId": "77abe1d3-fdcb-4600-d17e-722251891199"
      },
      "execution_count": 5,
      "outputs": [
        {
          "output_type": "stream",
          "name": "stdout",
          "text": [
            "Enter the word to correct: sentenses\n",
            "'sentences' is the correct or nearest word you need\n"
          ]
        }
      ]
    }
  ]
}